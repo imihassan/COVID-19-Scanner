{
  "nbformat": 4,
  "nbformat_minor": 0,
  "metadata": {
    "colab": {
      "name": "NCOV19 X-ray Classifier.ipynb",
      "provenance": [],
      "include_colab_link": true
    },
    "kernelspec": {
      "name": "python3",
      "display_name": "Python 3"
    },
    "accelerator": "GPU",
    "widgets": {
      "application/vnd.jupyter.widget-state+json": {
        "4f0ec20625fb41c88cc0c80720b9a228": {
          "model_module": "@jupyter-widgets/controls",
          "model_name": "HBoxModel",
          "state": {
            "_view_name": "HBoxView",
            "_dom_classes": [],
            "_model_name": "HBoxModel",
            "_view_module": "@jupyter-widgets/controls",
            "_model_module_version": "1.5.0",
            "_view_count": null,
            "_view_module_version": "1.5.0",
            "box_style": "",
            "layout": "IPY_MODEL_0afe3a2efa314c15b7726234757f07bc",
            "_model_module": "@jupyter-widgets/controls",
            "children": [
              "IPY_MODEL_14ff60a2325f45c3b61b2ec6af6be333",
              "IPY_MODEL_f062e41e4b7646cbb0e6852979c67f06"
            ]
          }
        },
        "0afe3a2efa314c15b7726234757f07bc": {
          "model_module": "@jupyter-widgets/base",
          "model_name": "LayoutModel",
          "state": {
            "_view_name": "LayoutView",
            "grid_template_rows": null,
            "right": null,
            "justify_content": null,
            "_view_module": "@jupyter-widgets/base",
            "overflow": null,
            "_model_module_version": "1.2.0",
            "_view_count": null,
            "flex_flow": null,
            "width": null,
            "min_width": null,
            "border": null,
            "align_items": null,
            "bottom": null,
            "_model_module": "@jupyter-widgets/base",
            "top": null,
            "grid_column": null,
            "overflow_y": null,
            "overflow_x": null,
            "grid_auto_flow": null,
            "grid_area": null,
            "grid_template_columns": null,
            "flex": null,
            "_model_name": "LayoutModel",
            "justify_items": null,
            "grid_row": null,
            "max_height": null,
            "align_content": null,
            "visibility": null,
            "align_self": null,
            "height": null,
            "min_height": null,
            "padding": null,
            "grid_auto_rows": null,
            "grid_gap": null,
            "max_width": null,
            "order": null,
            "_view_module_version": "1.2.0",
            "grid_template_areas": null,
            "object_position": null,
            "object_fit": null,
            "grid_auto_columns": null,
            "margin": null,
            "display": null,
            "left": null
          }
        },
        "14ff60a2325f45c3b61b2ec6af6be333": {
          "model_module": "@jupyter-widgets/controls",
          "model_name": "IntProgressModel",
          "state": {
            "_view_name": "ProgressView",
            "style": "IPY_MODEL_f940cf5b2f684d28afaf4d16de91ebd4",
            "_dom_classes": [],
            "description": "100%",
            "_model_name": "IntProgressModel",
            "bar_style": "success",
            "max": 102502400,
            "_view_module": "@jupyter-widgets/controls",
            "_model_module_version": "1.5.0",
            "value": 102502400,
            "_view_count": null,
            "_view_module_version": "1.5.0",
            "orientation": "horizontal",
            "min": 0,
            "description_tooltip": null,
            "_model_module": "@jupyter-widgets/controls",
            "layout": "IPY_MODEL_2af62a0c08d04d9cba48d4ddcfa3ba0d"
          }
        },
        "f062e41e4b7646cbb0e6852979c67f06": {
          "model_module": "@jupyter-widgets/controls",
          "model_name": "HTMLModel",
          "state": {
            "_view_name": "HTMLView",
            "style": "IPY_MODEL_aee4fe1928c049e19a25c308d04879b0",
            "_dom_classes": [],
            "description": "",
            "_model_name": "HTMLModel",
            "placeholder": "​",
            "_view_module": "@jupyter-widgets/controls",
            "_model_module_version": "1.5.0",
            "value": " 97.8M/97.8M [00:01&lt;00:00, 51.7MB/s]",
            "_view_count": null,
            "_view_module_version": "1.5.0",
            "description_tooltip": null,
            "_model_module": "@jupyter-widgets/controls",
            "layout": "IPY_MODEL_c23c9fc6f7874654b07a3b4592ad4846"
          }
        },
        "f940cf5b2f684d28afaf4d16de91ebd4": {
          "model_module": "@jupyter-widgets/controls",
          "model_name": "ProgressStyleModel",
          "state": {
            "_view_name": "StyleView",
            "_model_name": "ProgressStyleModel",
            "description_width": "initial",
            "_view_module": "@jupyter-widgets/base",
            "_model_module_version": "1.5.0",
            "_view_count": null,
            "_view_module_version": "1.2.0",
            "bar_color": null,
            "_model_module": "@jupyter-widgets/controls"
          }
        },
        "2af62a0c08d04d9cba48d4ddcfa3ba0d": {
          "model_module": "@jupyter-widgets/base",
          "model_name": "LayoutModel",
          "state": {
            "_view_name": "LayoutView",
            "grid_template_rows": null,
            "right": null,
            "justify_content": null,
            "_view_module": "@jupyter-widgets/base",
            "overflow": null,
            "_model_module_version": "1.2.0",
            "_view_count": null,
            "flex_flow": null,
            "width": null,
            "min_width": null,
            "border": null,
            "align_items": null,
            "bottom": null,
            "_model_module": "@jupyter-widgets/base",
            "top": null,
            "grid_column": null,
            "overflow_y": null,
            "overflow_x": null,
            "grid_auto_flow": null,
            "grid_area": null,
            "grid_template_columns": null,
            "flex": null,
            "_model_name": "LayoutModel",
            "justify_items": null,
            "grid_row": null,
            "max_height": null,
            "align_content": null,
            "visibility": null,
            "align_self": null,
            "height": null,
            "min_height": null,
            "padding": null,
            "grid_auto_rows": null,
            "grid_gap": null,
            "max_width": null,
            "order": null,
            "_view_module_version": "1.2.0",
            "grid_template_areas": null,
            "object_position": null,
            "object_fit": null,
            "grid_auto_columns": null,
            "margin": null,
            "display": null,
            "left": null
          }
        },
        "aee4fe1928c049e19a25c308d04879b0": {
          "model_module": "@jupyter-widgets/controls",
          "model_name": "DescriptionStyleModel",
          "state": {
            "_view_name": "StyleView",
            "_model_name": "DescriptionStyleModel",
            "description_width": "",
            "_view_module": "@jupyter-widgets/base",
            "_model_module_version": "1.5.0",
            "_view_count": null,
            "_view_module_version": "1.2.0",
            "_model_module": "@jupyter-widgets/controls"
          }
        },
        "c23c9fc6f7874654b07a3b4592ad4846": {
          "model_module": "@jupyter-widgets/base",
          "model_name": "LayoutModel",
          "state": {
            "_view_name": "LayoutView",
            "grid_template_rows": null,
            "right": null,
            "justify_content": null,
            "_view_module": "@jupyter-widgets/base",
            "overflow": null,
            "_model_module_version": "1.2.0",
            "_view_count": null,
            "flex_flow": null,
            "width": null,
            "min_width": null,
            "border": null,
            "align_items": null,
            "bottom": null,
            "_model_module": "@jupyter-widgets/base",
            "top": null,
            "grid_column": null,
            "overflow_y": null,
            "overflow_x": null,
            "grid_auto_flow": null,
            "grid_area": null,
            "grid_template_columns": null,
            "flex": null,
            "_model_name": "LayoutModel",
            "justify_items": null,
            "grid_row": null,
            "max_height": null,
            "align_content": null,
            "visibility": null,
            "align_self": null,
            "height": null,
            "min_height": null,
            "padding": null,
            "grid_auto_rows": null,
            "grid_gap": null,
            "max_width": null,
            "order": null,
            "_view_module_version": "1.2.0",
            "grid_template_areas": null,
            "object_position": null,
            "object_fit": null,
            "grid_auto_columns": null,
            "margin": null,
            "display": null,
            "left": null
          }
        }
      }
    }
  },
  "cells": [
    {
      "cell_type": "markdown",
      "metadata": {
        "id": "view-in-github",
        "colab_type": "text"
      },
      "source": [
        "<a href=\"https://colab.research.google.com/github/imihassan/COVID-19-Scanner/blob/master/NCOV19_X_ray_Classifier.ipynb\" target=\"_parent\"><img src=\"https://colab.research.google.com/assets/colab-badge.svg\" alt=\"Open In Colab\"/></a>"
      ]
    },
    {
      "cell_type": "markdown",
      "metadata": {
        "id": "3e7geXMFyndA",
        "colab_type": "text"
      },
      "source": [
        "#Coronavirus 2019 (COVID-19) Classifer using Posteroanterior views (PA) of Chest Radiograph Images (CXR)\n",
        "Accompanying information [here](https://towardsdatascience.com/using-deep-learning-to-detect-ncov-19-from-x-ray-images-1a89701d1acd).\n",
        "\n",
        "NOTICE: This notebook is provided as-is with no guarantee of accurate diagnosis. The model was trained on heavily skewed data and is not suitable for deployment. It is currently meant to be a proof of concept for now. All images used were publicly accessible and usable at the time of training."
      ]
    },
    {
      "cell_type": "code",
      "metadata": {
        "id": "yZMVckwEAN3c",
        "colab_type": "code",
        "outputId": "88f00430-1906-4181-c7ff-88882fc1ab1a",
        "colab": {
          "base_uri": "https://localhost:8080/",
          "height": 134
        }
      },
      "source": [
        "!git clone https://github.com/ieee8023/covid-chestxray-dataset.git"
      ],
      "execution_count": 1,
      "outputs": [
        {
          "output_type": "stream",
          "text": [
            "Cloning into 'covid-chestxray-dataset'...\n",
            "remote: Enumerating objects: 4, done.\u001b[K\n",
            "remote: Counting objects: 100% (4/4), done.\u001b[K\n",
            "remote: Compressing objects: 100% (4/4), done.\u001b[K\n",
            "remote: Total 631 (delta 0), reused 0 (delta 0), pack-reused 627\u001b[K\n",
            "Receiving objects: 100% (631/631), 84.29 MiB | 28.56 MiB/s, done.\n",
            "Resolving deltas: 100% (261/261), done.\n"
          ],
          "name": "stdout"
        }
      ]
    },
    {
      "cell_type": "code",
      "metadata": {
        "id": "NLm4gvRD_9Te",
        "colab_type": "code",
        "colab": {}
      },
      "source": [
        "import pandas as pd\n",
        "import numpy as np\n",
        "import os, shutil\n",
        "from fastai.vision import *\n",
        "from fastai.widgets import ClassConfusion"
      ],
      "execution_count": 0,
      "outputs": []
    },
    {
      "cell_type": "markdown",
      "metadata": {
        "id": "4Nd3AHX5AULm",
        "colab_type": "text"
      },
      "source": [
        "#Preprocessing\n",
        "##Extracting Images "
      ]
    },
    {
      "cell_type": "code",
      "metadata": {
        "id": "9n9PzSeuCIRc",
        "colab_type": "code",
        "colab": {
          "base_uri": "https://localhost:8080/",
          "height": 54
        },
        "outputId": "58790970-f5e4-4ce7-e0ca-5c81e0b79972"
      },
      "source": [
        "metadata_path='covid-chestxray-dataset/metadata.csv'\n",
        "df=pd.read_csv(metadata_path)\n",
        "\n",
        "#types we're interested in\n",
        "covid_patients=df['finding']=='COVID-19'\n",
        "CT=df['view']=='CT'\n",
        "PA=df['view']=='PA'\n",
        "\n",
        "# %%\n",
        "df[covid_patients & CT].shape\n",
        "df[covid_patients & PA].shape\n",
        "# %%\n",
        "PA_covid=df[covid_patients & PA]\n",
        "Others=df[~covid_patients & PA]\n",
        "covid_files=[files for files in PA_covid['filename']]\n",
        "print(covid_files)\n",
        "other_files=[files for files in Others['filename']]"
      ],
      "execution_count": 26,
      "outputs": [
        {
          "output_type": "stream",
          "text": [
            "['auntminnie-a-2020_01_28_23_51_6665_2020_01_28_Vietnam_coronavirus.jpeg', 'auntminnie-b-2020_01_28_23_51_6665_2020_01_28_Vietnam_coronavirus.jpeg', 'auntminnie-c-2020_01_28_23_51_6665_2020_01_28_Vietnam_coronavirus.jpeg', 'auntminnie-d-2020_01_28_23_51_6665_2020_01_28_Vietnam_coronavirus.jpeg', 'nejmc2001573_f1a.jpeg', 'nejmc2001573_f1b.jpeg', 'lancet-case2a.jpg', 'lancet-case2b.jpg', '1-s2.0-S0140673620303706-fx1_lrg.jpg', 'nCoV-radiol.2020200269.fig1-day7.jpeg', 'nejmoa2001191_f1-PA.jpeg', 'nejmoa2001191_f3-PA.jpeg', 'nejmoa2001191_f4.jpeg', 'nejmoa2001191_f5-PA.jpeg', 'ryct.2020200034.fig2.jpeg', 'ryct.2020200034.fig5-day0.jpeg', 'ryct.2020200034.fig5-day4.jpeg', 'ryct.2020200034.fig5-day7.jpeg', 'ryct.2020200028.fig1a.jpeg', 'radiol.2020200490.fig3.jpeg', '1-s2.0-S0929664620300449-gr2_lrg-a.jpg', '1-s2.0-S0929664620300449-gr2_lrg-b.jpg', '1-s2.0-S0929664620300449-gr2_lrg-c.jpg', '1-s2.0-S0929664620300449-gr2_lrg-d.jpg', 'covid-19-pneumonia-15-PA.jpg', 'covid-19-pneumonia-2.jpg', 'covid-19-pneumonia-7-PA.jpg', 'covid-19-pneumonia-14-PA.png', 'covid-19-pneumonia-12.jpg', '7C69C012-7479-493F-8722-ABC29C60A2DD.jpeg', '8FDE8DBA-CFBD-4B4C-B1A4-6F36A93B7E87.jpeg', '9C34AF49-E589-44D5-92D3-168B3B04E4A6.jpeg', 'F2DE909F-E19C-4900-92F5-8F435B031AC6.jpeg', '31BA3780-2323-493F-8AED-62081B9C383B.jpeg', '1312A392-67A3-4EBF-9319-810CF6DA5EF6.jpeg', '23E99E2E-447C-46E5-8EB2-D35D12473C39.png', '7AF6C1AF-D249-4BD2-8C26-449304105D03.jpeg', '1B734A89-A1BF-49A8-A1D3-66FAFA4FAC5D.jpeg', 'CD50BA96-6982-4C80-AE7B-5F67ACDBFA56.jpeg', '85E52EB3-56E9-4D67-82DA-DEA247C82886.jpeg', '6CB4EFC6-68FA-4CD5-940C-BEFA8DAFE9A7.jpeg', '01E392EE-69F9-4E33-BFCE-E5C968654078.jpeg', 'F63AB6CE-1968-4154-A70F-913AF154F53D.jpeg', '2C26F453-AF3B-4517-BB9E-802CF2179543.jpeg', '93FE0BB1-022D-4F24-9727-987A07975FFB.jpeg', 'F4341CE7-73C9-45C6-99C8-8567A5484B63.jpeg', 'E63574A7-4188-4C8D-8D17-9D67A18A1AFA.jpeg', '80446565-E090-4187-A031-9D3CEAA586C8.jpeg', 'all14238-fig-0001-m-b.jpg', 'all14238-fig-0001-m-c.jpg', '1-s2.0-S1684118220300608-main.pdf-001.jpg', '1-s2.0-S1684118220300608-main.pdf-002.jpg', 'ciaa199.pdf-001-a.png', 'ciaa199.pdf-001-b.png', 'ciaa199.pdf-001-c.png', 'kjr-21-e24-g001-l-a.jpg', 'kjr-21-e24-g002-l-a.jpg', 'kjr-21-e24-g003-l-a.jpg', '1-s2.0-S1684118220300682-main.pdf-002-a1.png', '1-s2.0-S1684118220300682-main.pdf-002-a2.png', '1-s2.0-S1684118220300682-main.pdf-003-b1.png', '1-s2.0-S1684118220300682-main.pdf-003-b2.png', 'gr1_lrg-a.jpg', 'gr1_lrg-b.jpg', 'FE9F9A5D-2830-46F9-851B-1FF4534959BE.jpeg', '41591_2020_819_Fig1_HTML.webp-day5.png', '41591_2020_819_Fig1_HTML.webp-day10.png', 'covid-19-pneumonia-19.jpg', 'kjr-21-e25-g001-l-a.jpg', '03BF7561-A9BA-4C3C-B8A0-D3E585F73F3C.jpeg', '353889E0-A1E8-4F9E-A0B8-F24F36BCFBFB.jpeg', 'figure1-5e75d0940b71e1b702629659-98-right.jpeg', 'figure1-5e71be566aa8714a04de3386-98-left.jpeg']\n"
          ],
          "name": "stdout"
        }
      ]
    },
    {
      "cell_type": "code",
      "metadata": {
        "id": "H7BW9lAi0QDZ",
        "colab_type": "code",
        "colab": {
          "base_uri": "https://localhost:8080/",
          "height": 54
        },
        "outputId": "ff8d26ea-9464-4c5f-c4ba-3773315143a5"
      },
      "source": [
        "#our test folder. manually included files via upload.\n",
        "test_files=[file for file in sorted(os.listdir('covid-chestxray-dataset/test/'))]\n",
        "# print(test_files[1])\n",
        "df=pd.read_csv('covid-chestxray-dataset/test/' + test_files[1])\n",
        "# print(df)\n",
        "test_files=[files for files in df['Filename']]\n",
        "print(test_files)\n",
        "# df_test=pd.DataFrame(test_files, columns=['Filename'])\n",
        "# print(df_test)"
      ],
      "execution_count": 27,
      "outputs": [
        {
          "output_type": "stream",
          "text": [
            "['1.jpg', '2.jpg', '2602ea3e16a6d7e22204ac78382d1c_jumbo.jpg', 'NORMAL2-IM-0195-0001.jpeg', 'NORMAL2-IM-0196-0001.jpeg', 'NORMAL2-IM-0198-0001.jpeg', 'NORMAL2-IM-0199-0001.jpeg', 'NORMAL2-IM-0201-0001.jpeg', 'NORMAL2-IM-0206-0001.jpeg', 'NORMAL2-IM-0207-0001.jpeg', 'NORMAL2-IM-0210-0001.jpeg', 'NORMAL2-IM-0213-0001.jpeg', 'NORMAL2-IM-0217-0001.jpeg', 'NORMAL2-IM-0219-0001.jpeg', 'NORMAL2-IM-0221-0001.jpeg', 'NORMAL2-IM-0222-0001.jpeg', 'NORMAL2-IM-0229-0001.jpeg', 'NORMAL2-IM-0232-0001.jpeg', 'NORMAL2-IM-0233-0001.jpeg', 'NORMAL2-IM-0237-0001.jpeg', 'NORMAL2-IM-0238-0001.jpeg', 'NORMAL2-IM-0241-0001.jpeg', 'NORMAL2-IM-0246-0001-0001.jpeg', 'NORMAL2-IM-0246-0001-0002.jpeg', 'NORMAL2-IM-0246-0001.jpeg', 'NORMAL2-IM-0249-0001.jpeg', 'NORMAL2-IM-0251-0001.jpeg', 'NORMAL2-IM-0252-0001.jpeg', 'NORMAL2-IM-0256-0001.jpeg', 'NORMAL2-IM-0259-0001.jpeg', 'NORMAL2-IM-0267-0001.jpeg', 'NORMAL2-IM-0271-0001.jpeg', 'NORMAL2-IM-0272-0001.jpeg', 'NORMAL2-IM-0273-0001.jpeg', 'NORMAL2-IM-0274-0001.jpeg', 'NORMAL2-IM-0275-0001.jpeg', 'NORMAL2-IM-0276-0001.jpeg', 'NORMAL2-IM-0277-0001.jpeg', 'NORMAL2-IM-0278-0001.jpeg', 'NORMAL2-IM-0279-0001.jpeg', 'NORMAL2-IM-0280-0001.jpeg', 'NORMAL2-IM-0281-0001.jpeg', 'NORMAL2-IM-0282-0001.jpeg', 'NORMAL2-IM-0283-0001.jpeg', 'NORMAL2-IM-0285-0001.jpeg', 'NORMAL2-IM-0286-0001.jpeg', 'NORMAL2-IM-0287-0001.jpeg', 'NORMAL2-IM-0288-0001.jpeg', 'NORMAL2-IM-0289-0001.jpeg', 'NORMAL2-IM-0290-0001.jpeg', 'NORMAL2-IM-0292-0001.jpeg', 'NORMAL2-IM-0294-0001.jpeg', 'NORMAL2-IM-0297-0001.jpeg', 'NORMAL2-IM-0300-0001.jpeg', 'NORMAL2-IM-0301-0001.jpeg', 'NORMAL2-IM-0302-0001.jpeg', 'NORMAL2-IM-0303-0001.jpeg', 'NORMAL2-IM-0304-0001.jpeg', 'NORMAL2-IM-0305-0001.jpeg', 'NORMAL2-IM-0307-0001.jpeg', 'NORMAL2-IM-0309-0001.jpeg', 'NORMAL2-IM-0310-0001.jpeg', 'NORMAL2-IM-0311-0001.jpeg', 'NORMAL2-IM-0312-0001.jpeg', 'NORMAL2-IM-0313-0001.jpeg', 'NORMAL2-IM-0315-0001.jpeg', 'NORMAL2-IM-0351-0001.jpeg', 'NORMAL2-IM-0352-0001.jpeg', 'NORMAL2-IM-0360-0001.jpeg', 'NORMAL2-IM-0361-0001.jpeg', 'NORMAL2-IM-0362-0001.jpeg', 'NORMAL2-IM-0370-0001.jpeg', 'NORMAL2-IM-0372-0001.jpeg', 'NORMAL2-IM-0373-0001.jpeg', 'NORMAL2-IM-0378-0001.jpeg', 'NORMAL2-IM-0380-0001.jpeg', 'NORMAL2-IM-0381-0001.jpeg', 'kjr-21-e24-g003-m.jpg']\n"
          ],
          "name": "stdout"
        }
      ]
    },
    {
      "cell_type": "code",
      "metadata": {
        "id": "KSShznGMAd7M",
        "colab_type": "code",
        "colab": {}
      },
      "source": [
        "#create data folder and positive & negative cases folder, and test folder\n",
        "destpath = 'data/covid','data/other', 'data/test'\n",
        "srcpath = 'covid-chestxray-dataset/images'\n",
        "\n",
        "for root, dirs, files in os.walk(srcpath):\n",
        "  if not os.path.isdir(destpath[0]):\n",
        "    os.makedirs(destpath[0])\n",
        "  if not os.path.isdir(destpath[1]):\n",
        "    os.makedirs(destpath[1])\n",
        "  if not os.path.isdir(destpath[2]):\n",
        "    os.makedirs(destpath[2])\n",
        "  for file in files:\n",
        "    if file in covid_files:\n",
        "      shutil.copy(os.path.join(root, file),destpath[0])\n",
        "    if file in other_files:\n",
        "      shutil.copy(os.path.join(root,file),destpath[1])\n",
        "    if file in test_files[1]:\n",
        "      shutil.copy(os.path.join(root,file)),destpath[2]\n",
        "      "
      ],
      "execution_count": 0,
      "outputs": []
    },
    {
      "cell_type": "code",
      "metadata": {
        "id": "cXx92rbQF1K2",
        "colab_type": "code",
        "outputId": "4b6c1244-f06e-4b4d-bd54-a69e88880206",
        "colab": {
          "base_uri": "https://localhost:8080/",
          "height": 34
        }
      },
      "source": [
        "#see number of files\n",
        "path, dirs, files2 = os.walk(\"data/other\").__next__()\n",
        "path, dirs, files1 = os.walk(\"data/covid\").__next__()\n",
        "path, dirs, files3 = os.walk(\"data/test\").__next__()\n",
        "print(\"Number of images in Other: {}\".format(len(files2)),\"Number of images in Covid: {}\".format(len(files1)),\"Number of images in Test Set: {}\".format(len(files3)) )"
      ],
      "execution_count": 17,
      "outputs": [
        {
          "output_type": "stream",
          "text": [
            "Number of images in Other: 23 Number of images in Covid: 73 Number of images in Test Set: 0\n"
          ],
          "name": "stdout"
        }
      ]
    },
    {
      "cell_type": "markdown",
      "metadata": {
        "id": "eIwcpkbPT2_8",
        "colab_type": "text"
      },
      "source": [
        "## Loading and Splitting Data\n",
        "We first declare the labels to be used (corresponding with the folder names). We then wrap it around a dataloader from fastai. \n",
        "\n",
        "We allocate 20% of the data for validation, and we reserve a test set from a folder called \"test\". We resize all images to 512 x 512 pixels. "
      ]
    },
    {
      "cell_type": "code",
      "metadata": {
        "id": "c2v_TyrjQ5gO",
        "colab_type": "code",
        "colab": {}
      },
      "source": [
        "classes=['covid','other']"
      ],
      "execution_count": 0,
      "outputs": []
    },
    {
      "cell_type": "code",
      "metadata": {
        "id": "k5E51HCAQ6ph",
        "colab_type": "code",
        "colab": {}
      },
      "source": [
        "#include a test folder named test before running this block\n",
        "#function assumes test set is located in the path (first arg) by default\n",
        "data = ImageDataBunch.from_folder('data', train=\".\", valid_pct=0.25,test='test',\n",
        "        ds_tfms=get_transforms(), bs=8, size=512, num_workers=4).normalize(imagenet_stats)"
      ],
      "execution_count": 0,
      "outputs": []
    },
    {
      "cell_type": "code",
      "metadata": {
        "id": "lMlHkvmQWmb4",
        "colab_type": "code",
        "outputId": "2e51a9f7-350c-4bef-be73-0706efa13489",
        "colab": {
          "base_uri": "https://localhost:8080/",
          "height": 34
        }
      },
      "source": [
        "data.classes"
      ],
      "execution_count": 20,
      "outputs": [
        {
          "output_type": "execute_result",
          "data": {
            "text/plain": [
              "['covid', 'other']"
            ]
          },
          "metadata": {
            "tags": []
          },
          "execution_count": 20
        }
      ]
    },
    {
      "cell_type": "code",
      "metadata": {
        "id": "-FPm5_nyy60h",
        "colab_type": "code",
        "outputId": "f301e36f-396b-42cb-f7fe-fb4e881cb98c",
        "colab": {
          "base_uri": "https://localhost:8080/",
          "height": 34
        }
      },
      "source": [
        "#show size of our datasets\n",
        "print(len(data.train_ds),len(data.valid_ds),len(data.test_ds.x))"
      ],
      "execution_count": 21,
      "outputs": [
        {
          "output_type": "stream",
          "text": [
            "72 24 1\n"
          ],
          "name": "stdout"
        }
      ]
    },
    {
      "cell_type": "code",
      "metadata": {
        "id": "oL6USZoeV9Ol",
        "colab_type": "code",
        "outputId": "f7b78907-3f1d-4de1-8ef7-3c6c55d16144",
        "colab": {
          "base_uri": "https://localhost:8080/",
          "height": 582
        }
      },
      "source": [
        "#sample of our images with labels\n",
        "data.show_batch(rows=5, figsize=(7,8))"
      ],
      "execution_count": 22,
      "outputs": [
        {
          "output_type": "display_data",
          "data": {
            "image/png": "[encoded data removed]",
            "text/plain": [
              "<Figure size 504x576 with 9 Axes>"
            ]
          },
          "metadata": {
            "tags": []
          }
        }
      ]
    },
    {
      "cell_type": "markdown",
      "metadata": {
        "id": "U0Jh0XPsevg3",
        "colab_type": "text"
      },
      "source": [
        "#Training\n",
        "We use a Resnet 50 for transfer learning.\n",
        "Initially we run the fit one cycle policy for a few epochs and then using fastai's **lrfinder** to find an optimal range for our learning rate.\n",
        "\n",
        "We use precision and recall to measure the incidents of false positives and false negatives, as well as AUC to account for performance given the skewed data."
      ]
    },
    {
      "cell_type": "code",
      "metadata": {
        "id": "676aAaiLglB6",
        "colab_type": "code",
        "colab": {}
      },
      "source": [
        "precision=Precision()\n",
        "recall=Recall()\n",
        "AUC=AUROC()"
      ],
      "execution_count": 0,
      "outputs": []
    },
    {
      "cell_type": "code",
      "metadata": {
        "id": "f-hB0emxWHIW",
        "colab_type": "code",
        "colab": {
          "base_uri": "https://localhost:8080/",
          "height": 82,
          "referenced_widgets": [
            "4f0ec20625fb41c88cc0c80720b9a228",
            "0afe3a2efa314c15b7726234757f07bc",
            "14ff60a2325f45c3b61b2ec6af6be333",
            "f062e41e4b7646cbb0e6852979c67f06",
            "f940cf5b2f684d28afaf4d16de91ebd4",
            "2af62a0c08d04d9cba48d4ddcfa3ba0d",
            "aee4fe1928c049e19a25c308d04879b0",
            "c23c9fc6f7874654b07a3b4592ad4846"
          ]
        },
        "outputId": "c0eeee68-4ea4-40c6-8fbb-2bd8e767a806"
      },
      "source": [
        "learn = cnn_learner(data, models.resnet50, metrics=(accuracy,precision,recall,AUC))"
      ],
      "execution_count": 24,
      "outputs": [
        {
          "output_type": "stream",
          "text": [
            "Downloading: \"https://download.pytorch.org/models/resnet50-19c8e357.pth\" to /root/.cache/torch/checkpoints/resnet50-19c8e357.pth\n"
          ],
          "name": "stderr"
        },
        {
          "output_type": "display_data",
          "data": {
            "application/vnd.jupyter.widget-view+json": {
              "model_id": "4f0ec20625fb41c88cc0c80720b9a228",
              "version_minor": 0,
              "version_major": 2
            },
            "text/plain": [
              "HBox(children=(IntProgress(value=0, max=102502400), HTML(value='')))"
            ]
          },
          "metadata": {
            "tags": []
          }
        },
        {
          "output_type": "stream",
          "text": [
            "\n"
          ],
          "name": "stdout"
        }
      ]
    },
    {
      "cell_type": "code",
      "metadata": {
        "id": "EODxAuYMLUhz",
        "colab_type": "code",
        "outputId": "07c9a3a8-bee8-471f-e99a-099e4e00ca28",
        "colab": {
          "base_uri": "https://localhost:8080/",
          "height": 77
        }
      },
      "source": [
        "learn.fit_one_cycle(1)"
      ],
      "execution_count": 25,
      "outputs": [
        {
          "output_type": "display_data",
          "data": {
            "text/html": [
              "<table border=\"1\" class=\"dataframe\">\n",
              "  <thead>\n",
              "    <tr style=\"text-align: left;\">\n",
              "      <th>epoch</th>\n",
              "      <th>train_loss</th>\n",
              "      <th>valid_loss</th>\n",
              "      <th>accuracy</th>\n",
              "      <th>precision</th>\n",
              "      <th>recall</th>\n",
              "      <th>auroc</th>\n",
              "      <th>time</th>\n",
              "    </tr>\n",
              "  </thead>\n",
              "  <tbody>\n",
              "    <tr>\n",
              "      <td>0</td>\n",
              "      <td>1.644054</td>\n",
              "      <td>2.707142</td>\n",
              "      <td>0.250000</td>\n",
              "      <td>0.166667</td>\n",
              "      <td>0.500000</td>\n",
              "      <td>0.259259</td>\n",
              "      <td>00:12</td>\n",
              "    </tr>\n",
              "  </tbody>\n",
              "</table>"
            ],
            "text/plain": [
              "<IPython.core.display.HTML object>"
            ]
          },
          "metadata": {
            "tags": []
          }
        }
      ]
    },
    {
      "cell_type": "markdown",
      "metadata": {
        "id": "CfwTNbHuaOY8",
        "colab_type": "text"
      },
      "source": [
        "At this stage, we realize the model is underfitting, so we continue to progressively increase the number of epochs from here on in an effort to reduce training loss while maintaining the low validation loss."
      ]
    },
    {
      "cell_type": "code",
      "metadata": {
        "id": "21zSYXbiMMOX",
        "colab_type": "code",
        "outputId": "5004a04e-19ee-4af4-b860-21490caf2861",
        "colab": {
          "base_uri": "https://localhost:8080/",
          "height": 110
        }
      },
      "source": [
        "learn.fit_one_cycle(2)"
      ],
      "execution_count": 0,
      "outputs": [
        {
          "output_type": "display_data",
          "data": {
            "text/html": [
              "<table border=\"1\" class=\"dataframe\">\n",
              "  <thead>\n",
              "    <tr style=\"text-align: left;\">\n",
              "      <th>epoch</th>\n",
              "      <th>train_loss</th>\n",
              "      <th>valid_loss</th>\n",
              "      <th>accuracy</th>\n",
              "      <th>precision</th>\n",
              "      <th>recall</th>\n",
              "      <th>auroc</th>\n",
              "      <th>time</th>\n",
              "    </tr>\n",
              "  </thead>\n",
              "  <tbody>\n",
              "    <tr>\n",
              "      <td>0</td>\n",
              "      <td>0.767465</td>\n",
              "      <td>0.476666</td>\n",
              "      <td>0.784615</td>\n",
              "      <td>1.000000</td>\n",
              "      <td>0.735849</td>\n",
              "      <td>0.992138</td>\n",
              "      <td>00:31</td>\n",
              "    </tr>\n",
              "    <tr>\n",
              "      <td>1</td>\n",
              "      <td>0.609159</td>\n",
              "      <td>0.180127</td>\n",
              "      <td>0.907692</td>\n",
              "      <td>0.979592</td>\n",
              "      <td>0.905660</td>\n",
              "      <td>0.979560</td>\n",
              "      <td>00:31</td>\n",
              "    </tr>\n",
              "  </tbody>\n",
              "</table>"
            ],
            "text/plain": [
              "<IPython.core.display.HTML object>"
            ]
          },
          "metadata": {
            "tags": []
          }
        }
      ]
    },
    {
      "cell_type": "code",
      "metadata": {
        "id": "usBXPEH4hEs0",
        "colab_type": "code",
        "outputId": "8ea6ce5d-d043-448b-c60f-7a6a2753c4fa",
        "colab": {
          "base_uri": "https://localhost:8080/",
          "height": 466
        }
      },
      "source": [
        "learn.lr_find()\n",
        "learn.recorder.plot()"
      ],
      "execution_count": 0,
      "outputs": [
        {
          "output_type": "display_data",
          "data": {
            "text/html": [
              "\n",
              "    <div>\n",
              "        <style>\n",
              "            /* Turns off some styling */\n",
              "            progress {\n",
              "                /* gets rid of default border in Firefox and Opera. */\n",
              "                border: none;\n",
              "                /* Needs to be in here for Safari polyfill so background images work as expected. */\n",
              "                background-size: auto;\n",
              "            }\n",
              "            .progress-bar-interrupted, .progress-bar-interrupted::-webkit-progress-bar {\n",
              "                background: #F44336;\n",
              "            }\n",
              "        </style>\n",
              "      <progress value='3' class='' max='5', style='width:300px; height:20px; vertical-align: middle;'></progress>\n",
              "      60.00% [3/5 01:13<00:49]\n",
              "    </div>\n",
              "    \n",
              "<table border=\"1\" class=\"dataframe\">\n",
              "  <thead>\n",
              "    <tr style=\"text-align: left;\">\n",
              "      <th>epoch</th>\n",
              "      <th>train_loss</th>\n",
              "      <th>valid_loss</th>\n",
              "      <th>accuracy</th>\n",
              "      <th>precision</th>\n",
              "      <th>recall</th>\n",
              "      <th>auroc</th>\n",
              "      <th>time</th>\n",
              "    </tr>\n",
              "  </thead>\n",
              "  <tbody>\n",
              "    <tr>\n",
              "      <td>0</td>\n",
              "      <td>0.367492</td>\n",
              "      <td>#na#</td>\n",
              "      <td>00:24</td>\n",
              "    </tr>\n",
              "    <tr>\n",
              "      <td>1</td>\n",
              "      <td>0.336237</td>\n",
              "      <td>#na#</td>\n",
              "      <td>00:24</td>\n",
              "    </tr>\n",
              "    <tr>\n",
              "      <td>2</td>\n",
              "      <td>0.360317</td>\n",
              "      <td>#na#</td>\n",
              "      <td>00:24</td>\n",
              "    </tr>\n",
              "  </tbody>\n",
              "</table><p>\n",
              "\n",
              "    <div>\n",
              "        <style>\n",
              "            /* Turns off some styling */\n",
              "            progress {\n",
              "                /* gets rid of default border in Firefox and Opera. */\n",
              "                border: none;\n",
              "                /* Needs to be in here for Safari polyfill so background images work as expected. */\n",
              "                background-size: auto;\n",
              "            }\n",
              "            .progress-bar-interrupted, .progress-bar-interrupted::-webkit-progress-bar {\n",
              "                background: #F44336;\n",
              "            }\n",
              "        </style>\n",
              "      <progress value='7' class='' max='24', style='width:300px; height:20px; vertical-align: middle;'></progress>\n",
              "      29.17% [7/24 00:09<00:23 0.6484]\n",
              "    </div>\n",
              "    "
            ],
            "text/plain": [
              "<IPython.core.display.HTML object>"
            ]
          },
          "metadata": {
            "tags": []
          }
        },
        {
          "output_type": "stream",
          "text": [
            "LR Finder is complete, type {learner_name}.recorder.plot() to see the graph.\n"
          ],
          "name": "stdout"
        },
        {
          "output_type": "display_data",
          "data": {
            "image/png": "[encoded data removed]",
            "text/plain": [
              "<Figure size 432x288 with 1 Axes>"
            ]
          },
          "metadata": {
            "tags": []
          }
        }
      ]
    },
    {
      "cell_type": "code",
      "metadata": {
        "id": "CZY3yItbg2Gn",
        "colab_type": "code",
        "cellView": "form",
        "colab": {}
      },
      "source": [
        "#@title Defining custom checkpoints\n",
        "#Customizing where our checkpoints are saved and loaded\n",
        "#if not os.path.isdir('checkpoints'): \n",
        " # os.mkdir('checkpoints')\n",
        "os.mkdir('check')\n",
        "def custom_path_save(self, name:PathOrStr, path='check', return_path:bool=False, with_opt:bool=True):\n",
        "        \"Save model and optimizer state (if `with_opt`) with `name` to `self.model_dir`.\"\n",
        "        # delete #  path = self.path/self.model_dir/f'{name}.pth'\n",
        "        # my addition: start\n",
        "        if path=='': path = self.path/self.model_dir/f'{name}.pth'\n",
        "        else: path = f'{path}/{name}.pth'\n",
        "        # end\n",
        "        if not with_opt: state = get_model(self.model).state_dict()\n",
        "        else: state = {'model': get_model(self.model).state_dict(), 'opt':self.opt.state_dict()}\n",
        "        torch.save(state, path)\n",
        "        if return_path: return path\n",
        "\n",
        "def custom_path_load(self, name:PathOrStr, path='check', device:torch.device=None, strict:bool=True, with_opt:bool=None,purge=False):\n",
        "        \"Load model and optimizer state (if `with_opt`) `name` from `self.model_dir` using `device`.\"\n",
        "        if device is None: device = self.data.device\n",
        "        # delete # state = torch.load(self.path/self.model_dir/f'{name}.pth', map_location=device)\n",
        "        # my addition: start\n",
        "        if path=='': path = self.path/self.model_dir/f'{name}.pth'\n",
        "        else: path = f'{path}/{name}.pth'\n",
        "        state = torch.load(path, map_location=device) \n",
        "        # end\n",
        "        if set(state.keys()) == {'model', 'opt'}:\n",
        "            get_model(self.model).load_state_dict(state['model'], strict=strict)\n",
        "            if ifnone(with_opt,True):\n",
        "                if not hasattr(self, 'opt'): opt = self.create_opt(defaults.lr, self.wd)\n",
        "                try:    self.opt.load_state_dict(state['opt'])\n",
        "                except: pass\n",
        "        else:\n",
        "            if with_opt: warn(\"Saved filed doesn't contain an optimizer state.\")\n",
        "            get_model(self.model).load_state_dict(state, strict=strict)\n",
        "        return self\n",
        "\n",
        "learn.save = custom_path_save.__get__(learn)\n",
        "learn.load = custom_path_load.__get__(learn)\n",
        "model_path ='check'"
      ],
      "execution_count": 0,
      "outputs": []
    },
    {
      "cell_type": "code",
      "metadata": {
        "id": "HyPZ8xFIsStG",
        "colab_type": "code",
        "colab": {}
      },
      "source": [
        "learn.save('Corona_model_stage1')"
      ],
      "execution_count": 0,
      "outputs": []
    },
    {
      "cell_type": "code",
      "metadata": {
        "id": "KLlcXkQWspWt",
        "colab_type": "code",
        "colab": {}
      },
      "source": [
        "#learn.load('Corona_model_stage1')"
      ],
      "execution_count": 0,
      "outputs": []
    },
    {
      "cell_type": "code",
      "metadata": {
        "id": "qknwaf9au3qe",
        "colab_type": "code",
        "colab": {}
      },
      "source": [
        "learn.unfreeze()"
      ],
      "execution_count": 0,
      "outputs": []
    },
    {
      "cell_type": "code",
      "metadata": {
        "id": "wSgLIG_FtnLf",
        "colab_type": "code",
        "outputId": "b2057faa-5dd0-4cb9-adab-55cb34bacc2a",
        "colab": {
          "base_uri": "https://localhost:8080/",
          "height": 355
        }
      },
      "source": [
        "learn.fit_one_cycle(10, max_lr=slice(9e-07,1e-06))"
      ],
      "execution_count": 0,
      "outputs": [
        {
          "output_type": "display_data",
          "data": {
            "text/html": [
              "<table border=\"1\" class=\"dataframe\">\n",
              "  <thead>\n",
              "    <tr style=\"text-align: left;\">\n",
              "      <th>epoch</th>\n",
              "      <th>train_loss</th>\n",
              "      <th>valid_loss</th>\n",
              "      <th>accuracy</th>\n",
              "      <th>precision</th>\n",
              "      <th>recall</th>\n",
              "      <th>auroc</th>\n",
              "      <th>time</th>\n",
              "    </tr>\n",
              "  </thead>\n",
              "  <tbody>\n",
              "    <tr>\n",
              "      <td>0</td>\n",
              "      <td>0.364490</td>\n",
              "      <td>0.198903</td>\n",
              "      <td>0.907692</td>\n",
              "      <td>0.912281</td>\n",
              "      <td>0.981132</td>\n",
              "      <td>0.949686</td>\n",
              "      <td>00:32</td>\n",
              "    </tr>\n",
              "    <tr>\n",
              "      <td>1</td>\n",
              "      <td>0.399531</td>\n",
              "      <td>0.238177</td>\n",
              "      <td>0.861538</td>\n",
              "      <td>1.000000</td>\n",
              "      <td>0.830189</td>\n",
              "      <td>0.987421</td>\n",
              "      <td>00:32</td>\n",
              "    </tr>\n",
              "    <tr>\n",
              "      <td>2</td>\n",
              "      <td>0.363702</td>\n",
              "      <td>0.195634</td>\n",
              "      <td>0.907692</td>\n",
              "      <td>1.000000</td>\n",
              "      <td>0.886792</td>\n",
              "      <td>0.992138</td>\n",
              "      <td>00:32</td>\n",
              "    </tr>\n",
              "    <tr>\n",
              "      <td>3</td>\n",
              "      <td>0.378611</td>\n",
              "      <td>0.154305</td>\n",
              "      <td>0.923077</td>\n",
              "      <td>0.944444</td>\n",
              "      <td>0.962264</td>\n",
              "      <td>0.985849</td>\n",
              "      <td>00:32</td>\n",
              "    </tr>\n",
              "    <tr>\n",
              "      <td>4</td>\n",
              "      <td>0.397570</td>\n",
              "      <td>0.182065</td>\n",
              "      <td>0.938462</td>\n",
              "      <td>0.962264</td>\n",
              "      <td>0.962264</td>\n",
              "      <td>0.974843</td>\n",
              "      <td>00:31</td>\n",
              "    </tr>\n",
              "    <tr>\n",
              "      <td>5</td>\n",
              "      <td>0.404387</td>\n",
              "      <td>0.157945</td>\n",
              "      <td>0.907692</td>\n",
              "      <td>0.943396</td>\n",
              "      <td>0.943396</td>\n",
              "      <td>0.982704</td>\n",
              "      <td>00:32</td>\n",
              "    </tr>\n",
              "    <tr>\n",
              "      <td>6</td>\n",
              "      <td>0.405342</td>\n",
              "      <td>0.164380</td>\n",
              "      <td>0.953846</td>\n",
              "      <td>0.980769</td>\n",
              "      <td>0.962264</td>\n",
              "      <td>0.982704</td>\n",
              "      <td>00:31</td>\n",
              "    </tr>\n",
              "    <tr>\n",
              "      <td>7</td>\n",
              "      <td>0.417745</td>\n",
              "      <td>0.136051</td>\n",
              "      <td>0.953846</td>\n",
              "      <td>0.946429</td>\n",
              "      <td>1.000000</td>\n",
              "      <td>0.990566</td>\n",
              "      <td>00:32</td>\n",
              "    </tr>\n",
              "    <tr>\n",
              "      <td>8</td>\n",
              "      <td>0.437893</td>\n",
              "      <td>0.137975</td>\n",
              "      <td>0.953846</td>\n",
              "      <td>0.962963</td>\n",
              "      <td>0.981132</td>\n",
              "      <td>0.990566</td>\n",
              "      <td>00:32</td>\n",
              "    </tr>\n",
              "    <tr>\n",
              "      <td>9</td>\n",
              "      <td>0.402558</td>\n",
              "      <td>0.152316</td>\n",
              "      <td>0.938462</td>\n",
              "      <td>0.945455</td>\n",
              "      <td>0.981132</td>\n",
              "      <td>0.988994</td>\n",
              "      <td>00:32</td>\n",
              "    </tr>\n",
              "  </tbody>\n",
              "</table>"
            ],
            "text/plain": [
              "<IPython.core.display.HTML object>"
            ]
          },
          "metadata": {
            "tags": []
          }
        }
      ]
    },
    {
      "cell_type": "code",
      "metadata": {
        "id": "ggsOKG5VQO3J",
        "colab_type": "code",
        "colab": {}
      },
      "source": [
        "learn.save('Corona_model_stage2')"
      ],
      "execution_count": 0,
      "outputs": []
    },
    {
      "cell_type": "code",
      "metadata": {
        "id": "LGW3jeYGuxlC",
        "colab_type": "code",
        "outputId": "172b1aa9-ad52-4cd4-8753-e04f35451cd6",
        "colab": {
          "base_uri": "https://localhost:8080/",
          "height": 311
        }
      },
      "source": [
        "#confusion matrix for the first 2 iterations\n",
        "interp = ClassificationInterpretation.from_learner(learn)\n",
        "interp.plot_confusion_matrix()"
      ],
      "execution_count": 0,
      "outputs": [
        {
          "output_type": "display_data",
          "data": {
            "text/html": [
              ""
            ],
            "text/plain": [
              "<IPython.core.display.HTML object>"
            ]
          },
          "metadata": {
            "tags": []
          }
        },
        {
          "output_type": "display_data",
          "data": {
            "image/png": "[encoded data removed]",
            "text/plain": [
              "<Figure size 432x288 with 1 Axes>"
            ]
          },
          "metadata": {
            "tags": []
          }
        }
      ]
    },
    {
      "cell_type": "code",
      "metadata": {
        "id": "-eZlqAM5ysB7",
        "colab_type": "code",
        "colab": {}
      },
      "source": [
        "ClassConfusion(interp, classes, is_ordered=False, figsize=(8,8))"
      ],
      "execution_count": 0,
      "outputs": []
    },
    {
      "cell_type": "code",
      "metadata": {
        "id": "rt5xT11WQZXo",
        "colab_type": "code",
        "outputId": "0ac84594-4184-453f-9954-679eae4c190f",
        "colab": {
          "base_uri": "https://localhost:8080/",
          "height": 466
        }
      },
      "source": [
        "learn.lr_find()\n",
        "learn.recorder.plot()"
      ],
      "execution_count": 0,
      "outputs": [
        {
          "output_type": "display_data",
          "data": {
            "text/html": [
              "\n",
              "    <div>\n",
              "        <style>\n",
              "            /* Turns off some styling */\n",
              "            progress {\n",
              "                /* gets rid of default border in Firefox and Opera. */\n",
              "                border: none;\n",
              "                /* Needs to be in here for Safari polyfill so background images work as expected. */\n",
              "                background-size: auto;\n",
              "            }\n",
              "            .progress-bar-interrupted, .progress-bar-interrupted::-webkit-progress-bar {\n",
              "                background: #F44336;\n",
              "            }\n",
              "        </style>\n",
              "      <progress value='3' class='' max='5', style='width:300px; height:20px; vertical-align: middle;'></progress>\n",
              "      60.00% [3/5 01:18<00:52]\n",
              "    </div>\n",
              "    \n",
              "<table border=\"1\" class=\"dataframe\">\n",
              "  <thead>\n",
              "    <tr style=\"text-align: left;\">\n",
              "      <th>epoch</th>\n",
              "      <th>train_loss</th>\n",
              "      <th>valid_loss</th>\n",
              "      <th>accuracy</th>\n",
              "      <th>precision</th>\n",
              "      <th>recall</th>\n",
              "      <th>auroc</th>\n",
              "      <th>time</th>\n",
              "    </tr>\n",
              "  </thead>\n",
              "  <tbody>\n",
              "    <tr>\n",
              "      <td>0</td>\n",
              "      <td>0.319931</td>\n",
              "      <td>#na#</td>\n",
              "      <td>00:26</td>\n",
              "    </tr>\n",
              "    <tr>\n",
              "      <td>1</td>\n",
              "      <td>0.326309</td>\n",
              "      <td>#na#</td>\n",
              "      <td>00:25</td>\n",
              "    </tr>\n",
              "    <tr>\n",
              "      <td>2</td>\n",
              "      <td>0.578660</td>\n",
              "      <td>#na#</td>\n",
              "      <td>00:26</td>\n",
              "    </tr>\n",
              "  </tbody>\n",
              "</table><p>\n",
              "\n",
              "    <div>\n",
              "        <style>\n",
              "            /* Turns off some styling */\n",
              "            progress {\n",
              "                /* gets rid of default border in Firefox and Opera. */\n",
              "                border: none;\n",
              "                /* Needs to be in here for Safari polyfill so background images work as expected. */\n",
              "                background-size: auto;\n",
              "            }\n",
              "            .progress-bar-interrupted, .progress-bar-interrupted::-webkit-progress-bar {\n",
              "                background: #F44336;\n",
              "            }\n",
              "        </style>\n",
              "      <progress value='1' class='' max='24', style='width:300px; height:20px; vertical-align: middle;'></progress>\n",
              "      4.17% [1/24 00:04<01:46 0.6020]\n",
              "    </div>\n",
              "    "
            ],
            "text/plain": [
              "<IPython.core.display.HTML object>"
            ]
          },
          "metadata": {
            "tags": []
          }
        },
        {
          "output_type": "stream",
          "text": [
            "LR Finder is complete, type {learner_name}.recorder.plot() to see the graph.\n"
          ],
          "name": "stdout"
        },
        {
          "output_type": "display_data",
          "data": {
            "image/png": "[encoded data removed]",
            "text/plain": [
              "<Figure size 432x288 with 1 Axes>"
            ]
          },
          "metadata": {
            "tags": []
          }
        }
      ]
    },
    {
      "cell_type": "code",
      "metadata": {
        "id": "XxJO74OsQdSm",
        "colab_type": "code",
        "outputId": "9aec57ff-c761-4ff5-99b7-79fc466853b1",
        "colab": {
          "base_uri": "https://localhost:8080/",
          "height": 969
        }
      },
      "source": [
        "learn.fit_one_cycle(30, max_lr=slice(6e-07,7e-06))"
      ],
      "execution_count": 0,
      "outputs": [
        {
          "output_type": "display_data",
          "data": {
            "text/html": [
              "<table border=\"1\" class=\"dataframe\">\n",
              "  <thead>\n",
              "    <tr style=\"text-align: left;\">\n",
              "      <th>epoch</th>\n",
              "      <th>train_loss</th>\n",
              "      <th>valid_loss</th>\n",
              "      <th>accuracy</th>\n",
              "      <th>precision</th>\n",
              "      <th>recall</th>\n",
              "      <th>auroc</th>\n",
              "      <th>time</th>\n",
              "    </tr>\n",
              "  </thead>\n",
              "  <tbody>\n",
              "    <tr>\n",
              "      <td>0</td>\n",
              "      <td>0.329083</td>\n",
              "      <td>0.161188</td>\n",
              "      <td>0.923077</td>\n",
              "      <td>0.980000</td>\n",
              "      <td>0.924528</td>\n",
              "      <td>0.988994</td>\n",
              "      <td>00:31</td>\n",
              "    </tr>\n",
              "    <tr>\n",
              "      <td>1</td>\n",
              "      <td>0.322466</td>\n",
              "      <td>0.184026</td>\n",
              "      <td>0.923077</td>\n",
              "      <td>1.000000</td>\n",
              "      <td>0.905660</td>\n",
              "      <td>0.993711</td>\n",
              "      <td>00:31</td>\n",
              "    </tr>\n",
              "    <tr>\n",
              "      <td>2</td>\n",
              "      <td>0.377909</td>\n",
              "      <td>0.156069</td>\n",
              "      <td>0.984615</td>\n",
              "      <td>1.000000</td>\n",
              "      <td>0.981132</td>\n",
              "      <td>0.993711</td>\n",
              "      <td>00:31</td>\n",
              "    </tr>\n",
              "    <tr>\n",
              "      <td>3</td>\n",
              "      <td>0.339729</td>\n",
              "      <td>0.185341</td>\n",
              "      <td>0.907692</td>\n",
              "      <td>1.000000</td>\n",
              "      <td>0.886792</td>\n",
              "      <td>0.993711</td>\n",
              "      <td>00:31</td>\n",
              "    </tr>\n",
              "    <tr>\n",
              "      <td>4</td>\n",
              "      <td>0.343446</td>\n",
              "      <td>0.154403</td>\n",
              "      <td>0.923077</td>\n",
              "      <td>0.928571</td>\n",
              "      <td>0.981132</td>\n",
              "      <td>0.987421</td>\n",
              "      <td>00:31</td>\n",
              "    </tr>\n",
              "    <tr>\n",
              "      <td>5</td>\n",
              "      <td>0.320960</td>\n",
              "      <td>0.201964</td>\n",
              "      <td>0.876923</td>\n",
              "      <td>1.000000</td>\n",
              "      <td>0.849057</td>\n",
              "      <td>0.996855</td>\n",
              "      <td>00:31</td>\n",
              "    </tr>\n",
              "    <tr>\n",
              "      <td>6</td>\n",
              "      <td>0.314984</td>\n",
              "      <td>0.139085</td>\n",
              "      <td>0.938462</td>\n",
              "      <td>0.962264</td>\n",
              "      <td>0.962264</td>\n",
              "      <td>0.993711</td>\n",
              "      <td>00:31</td>\n",
              "    </tr>\n",
              "    <tr>\n",
              "      <td>7</td>\n",
              "      <td>0.338542</td>\n",
              "      <td>0.123679</td>\n",
              "      <td>0.969231</td>\n",
              "      <td>0.963636</td>\n",
              "      <td>1.000000</td>\n",
              "      <td>0.998428</td>\n",
              "      <td>00:31</td>\n",
              "    </tr>\n",
              "    <tr>\n",
              "      <td>8</td>\n",
              "      <td>0.332734</td>\n",
              "      <td>0.143998</td>\n",
              "      <td>0.969231</td>\n",
              "      <td>1.000000</td>\n",
              "      <td>0.962264</td>\n",
              "      <td>1.000000</td>\n",
              "      <td>00:30</td>\n",
              "    </tr>\n",
              "    <tr>\n",
              "      <td>9</td>\n",
              "      <td>0.345055</td>\n",
              "      <td>0.122995</td>\n",
              "      <td>0.984615</td>\n",
              "      <td>0.981481</td>\n",
              "      <td>1.000000</td>\n",
              "      <td>0.992138</td>\n",
              "      <td>00:31</td>\n",
              "    </tr>\n",
              "    <tr>\n",
              "      <td>10</td>\n",
              "      <td>0.351576</td>\n",
              "      <td>0.164527</td>\n",
              "      <td>0.953846</td>\n",
              "      <td>1.000000</td>\n",
              "      <td>0.943396</td>\n",
              "      <td>1.000000</td>\n",
              "      <td>00:31</td>\n",
              "    </tr>\n",
              "    <tr>\n",
              "      <td>11</td>\n",
              "      <td>0.345132</td>\n",
              "      <td>0.130223</td>\n",
              "      <td>0.984615</td>\n",
              "      <td>1.000000</td>\n",
              "      <td>0.981132</td>\n",
              "      <td>1.000000</td>\n",
              "      <td>00:31</td>\n",
              "    </tr>\n",
              "    <tr>\n",
              "      <td>12</td>\n",
              "      <td>0.330823</td>\n",
              "      <td>0.123418</td>\n",
              "      <td>0.938462</td>\n",
              "      <td>0.929825</td>\n",
              "      <td>1.000000</td>\n",
              "      <td>0.996855</td>\n",
              "      <td>00:30</td>\n",
              "    </tr>\n",
              "    <tr>\n",
              "      <td>13</td>\n",
              "      <td>0.325458</td>\n",
              "      <td>0.128031</td>\n",
              "      <td>0.953846</td>\n",
              "      <td>0.946429</td>\n",
              "      <td>1.000000</td>\n",
              "      <td>0.995283</td>\n",
              "      <td>00:31</td>\n",
              "    </tr>\n",
              "    <tr>\n",
              "      <td>14</td>\n",
              "      <td>0.338156</td>\n",
              "      <td>0.118844</td>\n",
              "      <td>0.984615</td>\n",
              "      <td>1.000000</td>\n",
              "      <td>0.981132</td>\n",
              "      <td>0.998428</td>\n",
              "      <td>00:31</td>\n",
              "    </tr>\n",
              "    <tr>\n",
              "      <td>15</td>\n",
              "      <td>0.313690</td>\n",
              "      <td>0.128854</td>\n",
              "      <td>0.984615</td>\n",
              "      <td>1.000000</td>\n",
              "      <td>0.981132</td>\n",
              "      <td>0.998428</td>\n",
              "      <td>00:31</td>\n",
              "    </tr>\n",
              "    <tr>\n",
              "      <td>16</td>\n",
              "      <td>0.311401</td>\n",
              "      <td>0.138623</td>\n",
              "      <td>0.969231</td>\n",
              "      <td>0.981132</td>\n",
              "      <td>0.981132</td>\n",
              "      <td>0.995283</td>\n",
              "      <td>00:31</td>\n",
              "    </tr>\n",
              "    <tr>\n",
              "      <td>17</td>\n",
              "      <td>0.299370</td>\n",
              "      <td>0.132648</td>\n",
              "      <td>0.953846</td>\n",
              "      <td>0.946429</td>\n",
              "      <td>1.000000</td>\n",
              "      <td>0.992138</td>\n",
              "      <td>00:31</td>\n",
              "    </tr>\n",
              "    <tr>\n",
              "      <td>18</td>\n",
              "      <td>0.297800</td>\n",
              "      <td>0.119331</td>\n",
              "      <td>0.953846</td>\n",
              "      <td>0.946429</td>\n",
              "      <td>1.000000</td>\n",
              "      <td>0.996855</td>\n",
              "      <td>00:31</td>\n",
              "    </tr>\n",
              "    <tr>\n",
              "      <td>19</td>\n",
              "      <td>0.307549</td>\n",
              "      <td>0.114339</td>\n",
              "      <td>1.000000</td>\n",
              "      <td>1.000000</td>\n",
              "      <td>1.000000</td>\n",
              "      <td>1.000000</td>\n",
              "      <td>00:31</td>\n",
              "    </tr>\n",
              "    <tr>\n",
              "      <td>20</td>\n",
              "      <td>0.319106</td>\n",
              "      <td>0.146249</td>\n",
              "      <td>0.969231</td>\n",
              "      <td>1.000000</td>\n",
              "      <td>0.962264</td>\n",
              "      <td>1.000000</td>\n",
              "      <td>00:31</td>\n",
              "    </tr>\n",
              "    <tr>\n",
              "      <td>21</td>\n",
              "      <td>0.285886</td>\n",
              "      <td>0.118273</td>\n",
              "      <td>0.953846</td>\n",
              "      <td>0.946429</td>\n",
              "      <td>1.000000</td>\n",
              "      <td>1.000000</td>\n",
              "      <td>00:30</td>\n",
              "    </tr>\n",
              "    <tr>\n",
              "      <td>22</td>\n",
              "      <td>0.302488</td>\n",
              "      <td>0.115909</td>\n",
              "      <td>0.953846</td>\n",
              "      <td>0.946429</td>\n",
              "      <td>1.000000</td>\n",
              "      <td>1.000000</td>\n",
              "      <td>00:31</td>\n",
              "    </tr>\n",
              "    <tr>\n",
              "      <td>23</td>\n",
              "      <td>0.360066</td>\n",
              "      <td>0.117351</td>\n",
              "      <td>0.984615</td>\n",
              "      <td>1.000000</td>\n",
              "      <td>0.981132</td>\n",
              "      <td>1.000000</td>\n",
              "      <td>00:30</td>\n",
              "    </tr>\n",
              "    <tr>\n",
              "      <td>24</td>\n",
              "      <td>0.330640</td>\n",
              "      <td>0.170464</td>\n",
              "      <td>0.938462</td>\n",
              "      <td>1.000000</td>\n",
              "      <td>0.924528</td>\n",
              "      <td>0.998428</td>\n",
              "      <td>00:30</td>\n",
              "    </tr>\n",
              "    <tr>\n",
              "      <td>25</td>\n",
              "      <td>0.365404</td>\n",
              "      <td>0.135715</td>\n",
              "      <td>0.969231</td>\n",
              "      <td>1.000000</td>\n",
              "      <td>0.962264</td>\n",
              "      <td>1.000000</td>\n",
              "      <td>00:30</td>\n",
              "    </tr>\n",
              "    <tr>\n",
              "      <td>26</td>\n",
              "      <td>0.365287</td>\n",
              "      <td>0.129336</td>\n",
              "      <td>0.969231</td>\n",
              "      <td>0.981132</td>\n",
              "      <td>0.981132</td>\n",
              "      <td>0.998428</td>\n",
              "      <td>00:31</td>\n",
              "    </tr>\n",
              "    <tr>\n",
              "      <td>27</td>\n",
              "      <td>0.327235</td>\n",
              "      <td>0.112275</td>\n",
              "      <td>0.969231</td>\n",
              "      <td>0.963636</td>\n",
              "      <td>1.000000</td>\n",
              "      <td>0.995283</td>\n",
              "      <td>00:31</td>\n",
              "    </tr>\n",
              "    <tr>\n",
              "      <td>28</td>\n",
              "      <td>0.335879</td>\n",
              "      <td>0.123840</td>\n",
              "      <td>0.984615</td>\n",
              "      <td>0.981481</td>\n",
              "      <td>1.000000</td>\n",
              "      <td>0.995283</td>\n",
              "      <td>00:31</td>\n",
              "    </tr>\n",
              "    <tr>\n",
              "      <td>29</td>\n",
              "      <td>0.295829</td>\n",
              "      <td>0.130496</td>\n",
              "      <td>0.969231</td>\n",
              "      <td>1.000000</td>\n",
              "      <td>0.962264</td>\n",
              "      <td>1.000000</td>\n",
              "      <td>00:31</td>\n",
              "    </tr>\n",
              "  </tbody>\n",
              "</table>"
            ],
            "text/plain": [
              "<IPython.core.display.HTML object>"
            ]
          },
          "metadata": {
            "tags": []
          }
        }
      ]
    },
    {
      "cell_type": "code",
      "metadata": {
        "id": "K9hfQWiQYNfE",
        "colab_type": "code",
        "colab": {}
      },
      "source": [
        "learn.save('Corona_model_stage3.pth')"
      ],
      "execution_count": 0,
      "outputs": []
    },
    {
      "cell_type": "code",
      "metadata": {
        "id": "8rnFypFAYYME",
        "colab_type": "code",
        "outputId": "7269b8df-e6fc-4ef4-a7a4-cc78d7060f7e",
        "colab": {
          "base_uri": "https://localhost:8080/",
          "height": 469
        }
      },
      "source": [
        "learn.lr_find()\n",
        "learn.recorder.plot()"
      ],
      "execution_count": 0,
      "outputs": [
        {
          "output_type": "display_data",
          "data": {
            "text/html": [
              "\n",
              "    <div>\n",
              "        <style>\n",
              "            /* Turns off some styling */\n",
              "            progress {\n",
              "                /* gets rid of default border in Firefox and Opera. */\n",
              "                border: none;\n",
              "                /* Needs to be in here for Safari polyfill so background images work as expected. */\n",
              "                background-size: auto;\n",
              "            }\n",
              "            .progress-bar-interrupted, .progress-bar-interrupted::-webkit-progress-bar {\n",
              "                background: #F44336;\n",
              "            }\n",
              "        </style>\n",
              "      <progress value='3' class='' max='5', style='width:300px; height:20px; vertical-align: middle;'></progress>\n",
              "      60.00% [3/5 01:13<00:48]\n",
              "    </div>\n",
              "    \n",
              "<table border=\"1\" class=\"dataframe\">\n",
              "  <thead>\n",
              "    <tr style=\"text-align: left;\">\n",
              "      <th>epoch</th>\n",
              "      <th>train_loss</th>\n",
              "      <th>valid_loss</th>\n",
              "      <th>accuracy</th>\n",
              "      <th>precision</th>\n",
              "      <th>recall</th>\n",
              "      <th>auroc</th>\n",
              "      <th>time</th>\n",
              "    </tr>\n",
              "  </thead>\n",
              "  <tbody>\n",
              "    <tr>\n",
              "      <td>0</td>\n",
              "      <td>0.320863</td>\n",
              "      <td>#na#</td>\n",
              "      <td>00:24</td>\n",
              "    </tr>\n",
              "    <tr>\n",
              "      <td>1</td>\n",
              "      <td>0.398267</td>\n",
              "      <td>#na#</td>\n",
              "      <td>00:24</td>\n",
              "    </tr>\n",
              "    <tr>\n",
              "      <td>2</td>\n",
              "      <td>0.602363</td>\n",
              "      <td>#na#</td>\n",
              "      <td>00:24</td>\n",
              "    </tr>\n",
              "  </tbody>\n",
              "</table><p>\n",
              "\n",
              "    <div>\n",
              "        <style>\n",
              "            /* Turns off some styling */\n",
              "            progress {\n",
              "                /* gets rid of default border in Firefox and Opera. */\n",
              "                border: none;\n",
              "                /* Needs to be in here for Safari polyfill so background images work as expected. */\n",
              "                background-size: auto;\n",
              "            }\n",
              "            .progress-bar-interrupted, .progress-bar-interrupted::-webkit-progress-bar {\n",
              "                background: #F44336;\n",
              "            }\n",
              "        </style>\n",
              "      <progress value='10' class='' max='24', style='width:300px; height:20px; vertical-align: middle;'></progress>\n",
              "      41.67% [10/24 00:12<00:17 0.7340]\n",
              "    </div>\n",
              "    "
            ],
            "text/plain": [
              "<IPython.core.display.HTML object>"
            ]
          },
          "metadata": {
            "tags": []
          }
        },
        {
          "output_type": "stream",
          "text": [
            "LR Finder is complete, type {learner_name}.recorder.plot() to see the graph.\n"
          ],
          "name": "stdout"
        },
        {
          "output_type": "display_data",
          "data": {
            "image/png": "[encoded data removed]",
            "text/plain": [
              "<Figure size 432x288 with 1 Axes>"
            ]
          },
          "metadata": {
            "tags": []
          }
        }
      ]
    },
    {
      "cell_type": "code",
      "metadata": {
        "id": "fcRZtawDYau4",
        "colab_type": "code",
        "outputId": "4b799512-2c44-453b-9b88-5364969f20a9",
        "colab": {
          "base_uri": "https://localhost:8080/",
          "height": 1000
        }
      },
      "source": [
        "learn.fit_one_cycle(40, max_lr=slice(8e-06,1e-05))"
      ],
      "execution_count": 0,
      "outputs": [
        {
          "output_type": "display_data",
          "data": {
            "text/html": [
              "<table border=\"1\" class=\"dataframe\">\n",
              "  <thead>\n",
              "    <tr style=\"text-align: left;\">\n",
              "      <th>epoch</th>\n",
              "      <th>train_loss</th>\n",
              "      <th>valid_loss</th>\n",
              "      <th>accuracy</th>\n",
              "      <th>precision</th>\n",
              "      <th>recall</th>\n",
              "      <th>auroc</th>\n",
              "      <th>time</th>\n",
              "    </tr>\n",
              "  </thead>\n",
              "  <tbody>\n",
              "    <tr>\n",
              "      <td>0</td>\n",
              "      <td>0.202330</td>\n",
              "      <td>0.129510</td>\n",
              "      <td>0.969231</td>\n",
              "      <td>1.000000</td>\n",
              "      <td>0.962264</td>\n",
              "      <td>1.000000</td>\n",
              "      <td>00:29</td>\n",
              "    </tr>\n",
              "    <tr>\n",
              "      <td>1</td>\n",
              "      <td>0.307139</td>\n",
              "      <td>0.130274</td>\n",
              "      <td>0.953846</td>\n",
              "      <td>0.946429</td>\n",
              "      <td>1.000000</td>\n",
              "      <td>0.993711</td>\n",
              "      <td>00:30</td>\n",
              "    </tr>\n",
              "    <tr>\n",
              "      <td>2</td>\n",
              "      <td>0.329779</td>\n",
              "      <td>0.149713</td>\n",
              "      <td>0.938462</td>\n",
              "      <td>0.962264</td>\n",
              "      <td>0.962264</td>\n",
              "      <td>0.987421</td>\n",
              "      <td>00:31</td>\n",
              "    </tr>\n",
              "    <tr>\n",
              "      <td>3</td>\n",
              "      <td>0.368552</td>\n",
              "      <td>0.165314</td>\n",
              "      <td>0.953846</td>\n",
              "      <td>0.980769</td>\n",
              "      <td>0.962264</td>\n",
              "      <td>0.987421</td>\n",
              "      <td>00:30</td>\n",
              "    </tr>\n",
              "    <tr>\n",
              "      <td>4</td>\n",
              "      <td>0.293627</td>\n",
              "      <td>0.108407</td>\n",
              "      <td>1.000000</td>\n",
              "      <td>1.000000</td>\n",
              "      <td>1.000000</td>\n",
              "      <td>1.000000</td>\n",
              "      <td>00:30</td>\n",
              "    </tr>\n",
              "    <tr>\n",
              "      <td>5</td>\n",
              "      <td>0.275742</td>\n",
              "      <td>0.113035</td>\n",
              "      <td>0.969231</td>\n",
              "      <td>0.963636</td>\n",
              "      <td>1.000000</td>\n",
              "      <td>0.998428</td>\n",
              "      <td>00:31</td>\n",
              "    </tr>\n",
              "    <tr>\n",
              "      <td>6</td>\n",
              "      <td>0.292897</td>\n",
              "      <td>0.128666</td>\n",
              "      <td>0.953846</td>\n",
              "      <td>0.962963</td>\n",
              "      <td>0.981132</td>\n",
              "      <td>0.988994</td>\n",
              "      <td>00:30</td>\n",
              "    </tr>\n",
              "    <tr>\n",
              "      <td>7</td>\n",
              "      <td>0.277679</td>\n",
              "      <td>0.121344</td>\n",
              "      <td>0.969231</td>\n",
              "      <td>0.963636</td>\n",
              "      <td>1.000000</td>\n",
              "      <td>0.993711</td>\n",
              "      <td>00:30</td>\n",
              "    </tr>\n",
              "    <tr>\n",
              "      <td>8</td>\n",
              "      <td>0.318157</td>\n",
              "      <td>0.117274</td>\n",
              "      <td>0.953846</td>\n",
              "      <td>0.962963</td>\n",
              "      <td>0.981132</td>\n",
              "      <td>0.990566</td>\n",
              "      <td>00:30</td>\n",
              "    </tr>\n",
              "    <tr>\n",
              "      <td>9</td>\n",
              "      <td>0.276515</td>\n",
              "      <td>0.137329</td>\n",
              "      <td>0.953846</td>\n",
              "      <td>0.962963</td>\n",
              "      <td>0.981132</td>\n",
              "      <td>0.976415</td>\n",
              "      <td>00:31</td>\n",
              "    </tr>\n",
              "    <tr>\n",
              "      <td>10</td>\n",
              "      <td>0.272156</td>\n",
              "      <td>0.120699</td>\n",
              "      <td>0.984615</td>\n",
              "      <td>1.000000</td>\n",
              "      <td>0.981132</td>\n",
              "      <td>1.000000</td>\n",
              "      <td>00:31</td>\n",
              "    </tr>\n",
              "    <tr>\n",
              "      <td>11</td>\n",
              "      <td>0.250732</td>\n",
              "      <td>0.107218</td>\n",
              "      <td>0.969231</td>\n",
              "      <td>0.963636</td>\n",
              "      <td>1.000000</td>\n",
              "      <td>0.984277</td>\n",
              "      <td>00:30</td>\n",
              "    </tr>\n",
              "    <tr>\n",
              "      <td>12</td>\n",
              "      <td>0.265247</td>\n",
              "      <td>0.144146</td>\n",
              "      <td>0.969231</td>\n",
              "      <td>0.963636</td>\n",
              "      <td>1.000000</td>\n",
              "      <td>0.952830</td>\n",
              "      <td>00:30</td>\n",
              "    </tr>\n",
              "    <tr>\n",
              "      <td>13</td>\n",
              "      <td>0.261017</td>\n",
              "      <td>0.150637</td>\n",
              "      <td>0.953846</td>\n",
              "      <td>0.962963</td>\n",
              "      <td>0.981132</td>\n",
              "      <td>0.973270</td>\n",
              "      <td>00:31</td>\n",
              "    </tr>\n",
              "    <tr>\n",
              "      <td>14</td>\n",
              "      <td>0.232559</td>\n",
              "      <td>0.148362</td>\n",
              "      <td>0.938462</td>\n",
              "      <td>0.962264</td>\n",
              "      <td>0.962264</td>\n",
              "      <td>0.984277</td>\n",
              "      <td>00:30</td>\n",
              "    </tr>\n",
              "    <tr>\n",
              "      <td>15</td>\n",
              "      <td>0.231504</td>\n",
              "      <td>0.151517</td>\n",
              "      <td>0.969231</td>\n",
              "      <td>0.963636</td>\n",
              "      <td>1.000000</td>\n",
              "      <td>0.960692</td>\n",
              "      <td>00:30</td>\n",
              "    </tr>\n",
              "    <tr>\n",
              "      <td>16</td>\n",
              "      <td>0.229667</td>\n",
              "      <td>0.169188</td>\n",
              "      <td>0.969231</td>\n",
              "      <td>0.963636</td>\n",
              "      <td>1.000000</td>\n",
              "      <td>0.922956</td>\n",
              "      <td>00:31</td>\n",
              "    </tr>\n",
              "    <tr>\n",
              "      <td>17</td>\n",
              "      <td>0.231852</td>\n",
              "      <td>0.221873</td>\n",
              "      <td>0.907692</td>\n",
              "      <td>0.960784</td>\n",
              "      <td>0.924528</td>\n",
              "      <td>0.955975</td>\n",
              "      <td>00:30</td>\n",
              "    </tr>\n",
              "    <tr>\n",
              "      <td>18</td>\n",
              "      <td>0.223735</td>\n",
              "      <td>0.206218</td>\n",
              "      <td>0.923077</td>\n",
              "      <td>0.961538</td>\n",
              "      <td>0.943396</td>\n",
              "      <td>0.927673</td>\n",
              "      <td>00:30</td>\n",
              "    </tr>\n",
              "    <tr>\n",
              "      <td>19</td>\n",
              "      <td>0.238116</td>\n",
              "      <td>0.184144</td>\n",
              "      <td>0.938462</td>\n",
              "      <td>0.962264</td>\n",
              "      <td>0.962264</td>\n",
              "      <td>0.951258</td>\n",
              "      <td>00:30</td>\n",
              "    </tr>\n",
              "    <tr>\n",
              "      <td>20</td>\n",
              "      <td>0.224600</td>\n",
              "      <td>0.175078</td>\n",
              "      <td>0.953846</td>\n",
              "      <td>0.962963</td>\n",
              "      <td>0.981132</td>\n",
              "      <td>0.941824</td>\n",
              "      <td>00:31</td>\n",
              "    </tr>\n",
              "    <tr>\n",
              "      <td>21</td>\n",
              "      <td>0.248824</td>\n",
              "      <td>0.212263</td>\n",
              "      <td>0.907692</td>\n",
              "      <td>0.960784</td>\n",
              "      <td>0.924528</td>\n",
              "      <td>0.970126</td>\n",
              "      <td>00:31</td>\n",
              "    </tr>\n",
              "    <tr>\n",
              "      <td>22</td>\n",
              "      <td>0.260683</td>\n",
              "      <td>0.154493</td>\n",
              "      <td>0.938462</td>\n",
              "      <td>0.962264</td>\n",
              "      <td>0.962264</td>\n",
              "      <td>0.968553</td>\n",
              "      <td>00:30</td>\n",
              "    </tr>\n",
              "    <tr>\n",
              "      <td>23</td>\n",
              "      <td>0.218456</td>\n",
              "      <td>0.133802</td>\n",
              "      <td>0.953846</td>\n",
              "      <td>0.962963</td>\n",
              "      <td>0.981132</td>\n",
              "      <td>0.977987</td>\n",
              "      <td>00:30</td>\n",
              "    </tr>\n",
              "    <tr>\n",
              "      <td>24</td>\n",
              "      <td>0.192157</td>\n",
              "      <td>0.162497</td>\n",
              "      <td>0.938462</td>\n",
              "      <td>0.962264</td>\n",
              "      <td>0.962264</td>\n",
              "      <td>0.981132</td>\n",
              "      <td>00:30</td>\n",
              "    </tr>\n",
              "    <tr>\n",
              "      <td>25</td>\n",
              "      <td>0.212321</td>\n",
              "      <td>0.146048</td>\n",
              "      <td>0.953846</td>\n",
              "      <td>0.962963</td>\n",
              "      <td>0.981132</td>\n",
              "      <td>0.973270</td>\n",
              "      <td>00:30</td>\n",
              "    </tr>\n",
              "    <tr>\n",
              "      <td>26</td>\n",
              "      <td>0.205146</td>\n",
              "      <td>0.133541</td>\n",
              "      <td>0.953846</td>\n",
              "      <td>0.962963</td>\n",
              "      <td>0.981132</td>\n",
              "      <td>0.984277</td>\n",
              "      <td>00:30</td>\n",
              "    </tr>\n",
              "    <tr>\n",
              "      <td>27</td>\n",
              "      <td>0.220228</td>\n",
              "      <td>0.159637</td>\n",
              "      <td>0.938462</td>\n",
              "      <td>0.962264</td>\n",
              "      <td>0.962264</td>\n",
              "      <td>0.957547</td>\n",
              "      <td>00:30</td>\n",
              "    </tr>\n",
              "    <tr>\n",
              "      <td>28</td>\n",
              "      <td>0.196391</td>\n",
              "      <td>0.161086</td>\n",
              "      <td>0.953846</td>\n",
              "      <td>0.946429</td>\n",
              "      <td>1.000000</td>\n",
              "      <td>0.937107</td>\n",
              "      <td>00:30</td>\n",
              "    </tr>\n",
              "    <tr>\n",
              "      <td>29</td>\n",
              "      <td>0.189515</td>\n",
              "      <td>0.152208</td>\n",
              "      <td>0.938462</td>\n",
              "      <td>0.962264</td>\n",
              "      <td>0.962264</td>\n",
              "      <td>0.970126</td>\n",
              "      <td>00:30</td>\n",
              "    </tr>\n",
              "    <tr>\n",
              "      <td>30</td>\n",
              "      <td>0.203865</td>\n",
              "      <td>0.144759</td>\n",
              "      <td>0.969231</td>\n",
              "      <td>0.963636</td>\n",
              "      <td>1.000000</td>\n",
              "      <td>0.963836</td>\n",
              "      <td>00:30</td>\n",
              "    </tr>\n",
              "    <tr>\n",
              "      <td>31</td>\n",
              "      <td>0.222767</td>\n",
              "      <td>0.148251</td>\n",
              "      <td>0.938462</td>\n",
              "      <td>0.962264</td>\n",
              "      <td>0.962264</td>\n",
              "      <td>0.970126</td>\n",
              "      <td>00:30</td>\n",
              "    </tr>\n",
              "    <tr>\n",
              "      <td>32</td>\n",
              "      <td>0.223735</td>\n",
              "      <td>0.147994</td>\n",
              "      <td>0.953846</td>\n",
              "      <td>0.962963</td>\n",
              "      <td>0.981132</td>\n",
              "      <td>0.954403</td>\n",
              "      <td>00:30</td>\n",
              "    </tr>\n",
              "    <tr>\n",
              "      <td>33</td>\n",
              "      <td>0.227146</td>\n",
              "      <td>0.142463</td>\n",
              "      <td>0.938462</td>\n",
              "      <td>0.962264</td>\n",
              "      <td>0.962264</td>\n",
              "      <td>0.974843</td>\n",
              "      <td>00:30</td>\n",
              "    </tr>\n",
              "    <tr>\n",
              "      <td>34</td>\n",
              "      <td>0.213540</td>\n",
              "      <td>0.152646</td>\n",
              "      <td>0.953846</td>\n",
              "      <td>0.962963</td>\n",
              "      <td>0.981132</td>\n",
              "      <td>0.963836</td>\n",
              "      <td>00:30</td>\n",
              "    </tr>\n",
              "    <tr>\n",
              "      <td>35</td>\n",
              "      <td>0.247148</td>\n",
              "      <td>0.158109</td>\n",
              "      <td>0.938462</td>\n",
              "      <td>0.962264</td>\n",
              "      <td>0.962264</td>\n",
              "      <td>0.970126</td>\n",
              "      <td>00:30</td>\n",
              "    </tr>\n",
              "    <tr>\n",
              "      <td>36</td>\n",
              "      <td>0.214760</td>\n",
              "      <td>0.155666</td>\n",
              "      <td>0.969231</td>\n",
              "      <td>0.963636</td>\n",
              "      <td>1.000000</td>\n",
              "      <td>0.938679</td>\n",
              "      <td>00:30</td>\n",
              "    </tr>\n",
              "    <tr>\n",
              "      <td>37</td>\n",
              "      <td>0.215133</td>\n",
              "      <td>0.146378</td>\n",
              "      <td>0.953846</td>\n",
              "      <td>0.962963</td>\n",
              "      <td>0.981132</td>\n",
              "      <td>0.973270</td>\n",
              "      <td>00:30</td>\n",
              "    </tr>\n",
              "    <tr>\n",
              "      <td>38</td>\n",
              "      <td>0.190748</td>\n",
              "      <td>0.151290</td>\n",
              "      <td>0.953846</td>\n",
              "      <td>0.962963</td>\n",
              "      <td>0.981132</td>\n",
              "      <td>0.960692</td>\n",
              "      <td>00:30</td>\n",
              "    </tr>\n",
              "    <tr>\n",
              "      <td>39</td>\n",
              "      <td>0.210779</td>\n",
              "      <td>0.173059</td>\n",
              "      <td>0.938462</td>\n",
              "      <td>0.962264</td>\n",
              "      <td>0.962264</td>\n",
              "      <td>0.952830</td>\n",
              "      <td>00:30</td>\n",
              "    </tr>\n",
              "  </tbody>\n",
              "</table>"
            ],
            "text/plain": [
              "<IPython.core.display.HTML object>"
            ]
          },
          "metadata": {
            "tags": []
          }
        }
      ]
    },
    {
      "cell_type": "code",
      "metadata": {
        "id": "KxREqJWPfV6A",
        "colab_type": "code",
        "colab": {}
      },
      "source": [
        "learn.save('Corona_model_stage4.pth')"
      ],
      "execution_count": 0,
      "outputs": []
    },
    {
      "cell_type": "code",
      "metadata": {
        "id": "ZJhH61YcfZ2O",
        "colab_type": "code",
        "outputId": "cb0d819d-d5a8-4243-f3be-ec062c52c26b",
        "colab": {
          "base_uri": "https://localhost:8080/",
          "height": 466
        }
      },
      "source": [
        "learn.lr_find()\n",
        "learn.recorder.plot()"
      ],
      "execution_count": 0,
      "outputs": [
        {
          "output_type": "display_data",
          "data": {
            "text/html": [
              "\n",
              "    <div>\n",
              "        <style>\n",
              "            /* Turns off some styling */\n",
              "            progress {\n",
              "                /* gets rid of default border in Firefox and Opera. */\n",
              "                border: none;\n",
              "                /* Needs to be in here for Safari polyfill so background images work as expected. */\n",
              "                background-size: auto;\n",
              "            }\n",
              "            .progress-bar-interrupted, .progress-bar-interrupted::-webkit-progress-bar {\n",
              "                background: #F44336;\n",
              "            }\n",
              "        </style>\n",
              "      <progress value='3' class='' max='5', style='width:300px; height:20px; vertical-align: middle;'></progress>\n",
              "      60.00% [3/5 01:12<00:48]\n",
              "    </div>\n",
              "    \n",
              "<table border=\"1\" class=\"dataframe\">\n",
              "  <thead>\n",
              "    <tr style=\"text-align: left;\">\n",
              "      <th>epoch</th>\n",
              "      <th>train_loss</th>\n",
              "      <th>valid_loss</th>\n",
              "      <th>accuracy</th>\n",
              "      <th>precision</th>\n",
              "      <th>recall</th>\n",
              "      <th>auroc</th>\n",
              "      <th>time</th>\n",
              "    </tr>\n",
              "  </thead>\n",
              "  <tbody>\n",
              "    <tr>\n",
              "      <td>0</td>\n",
              "      <td>0.207901</td>\n",
              "      <td>#na#</td>\n",
              "      <td>00:24</td>\n",
              "    </tr>\n",
              "    <tr>\n",
              "      <td>1</td>\n",
              "      <td>0.206814</td>\n",
              "      <td>#na#</td>\n",
              "      <td>00:24</td>\n",
              "    </tr>\n",
              "    <tr>\n",
              "      <td>2</td>\n",
              "      <td>0.478553</td>\n",
              "      <td>#na#</td>\n",
              "      <td>00:24</td>\n",
              "    </tr>\n",
              "  </tbody>\n",
              "</table><p>\n",
              "\n",
              "    <div>\n",
              "        <style>\n",
              "            /* Turns off some styling */\n",
              "            progress {\n",
              "                /* gets rid of default border in Firefox and Opera. */\n",
              "                border: none;\n",
              "                /* Needs to be in here for Safari polyfill so background images work as expected. */\n",
              "                background-size: auto;\n",
              "            }\n",
              "            .progress-bar-interrupted, .progress-bar-interrupted::-webkit-progress-bar {\n",
              "                background: #F44336;\n",
              "            }\n",
              "        </style>\n",
              "      <progress value='7' class='' max='24', style='width:300px; height:20px; vertical-align: middle;'></progress>\n",
              "      29.17% [7/24 00:08<00:20 0.6359]\n",
              "    </div>\n",
              "    "
            ],
            "text/plain": [
              "<IPython.core.display.HTML object>"
            ]
          },
          "metadata": {
            "tags": []
          }
        },
        {
          "output_type": "stream",
          "text": [
            "LR Finder is complete, type {learner_name}.recorder.plot() to see the graph.\n"
          ],
          "name": "stdout"
        },
        {
          "output_type": "display_data",
          "data": {
            "image/png": "[encoded data removed]",
            "text/plain": [
              "<Figure size 432x288 with 1 Axes>"
            ]
          },
          "metadata": {
            "tags": []
          }
        }
      ]
    },
    {
      "cell_type": "code",
      "metadata": {
        "id": "5PWLp5u5feF4",
        "colab_type": "code",
        "outputId": "2c5fe682-9e78-49f6-d3b8-82a83d85c837",
        "colab": {
          "base_uri": "https://localhost:8080/",
          "height": 202
        }
      },
      "source": [
        "learn.fit_one_cycle(5, max_lr=2e-06)"
      ],
      "execution_count": 0,
      "outputs": [
        {
          "output_type": "display_data",
          "data": {
            "text/html": [
              "<table border=\"1\" class=\"dataframe\">\n",
              "  <thead>\n",
              "    <tr style=\"text-align: left;\">\n",
              "      <th>epoch</th>\n",
              "      <th>train_loss</th>\n",
              "      <th>valid_loss</th>\n",
              "      <th>accuracy</th>\n",
              "      <th>precision</th>\n",
              "      <th>recall</th>\n",
              "      <th>auroc</th>\n",
              "      <th>time</th>\n",
              "    </tr>\n",
              "  </thead>\n",
              "  <tbody>\n",
              "    <tr>\n",
              "      <td>0</td>\n",
              "      <td>0.147189</td>\n",
              "      <td>0.147491</td>\n",
              "      <td>0.953846</td>\n",
              "      <td>0.962963</td>\n",
              "      <td>0.981132</td>\n",
              "      <td>0.957547</td>\n",
              "      <td>00:30</td>\n",
              "    </tr>\n",
              "    <tr>\n",
              "      <td>1</td>\n",
              "      <td>0.156640</td>\n",
              "      <td>0.138794</td>\n",
              "      <td>0.953846</td>\n",
              "      <td>0.962963</td>\n",
              "      <td>0.981132</td>\n",
              "      <td>0.971698</td>\n",
              "      <td>00:30</td>\n",
              "    </tr>\n",
              "    <tr>\n",
              "      <td>2</td>\n",
              "      <td>0.155739</td>\n",
              "      <td>0.169582</td>\n",
              "      <td>0.938462</td>\n",
              "      <td>0.962264</td>\n",
              "      <td>0.962264</td>\n",
              "      <td>0.979560</td>\n",
              "      <td>00:30</td>\n",
              "    </tr>\n",
              "    <tr>\n",
              "      <td>3</td>\n",
              "      <td>0.160096</td>\n",
              "      <td>0.160149</td>\n",
              "      <td>0.938462</td>\n",
              "      <td>0.962264</td>\n",
              "      <td>0.962264</td>\n",
              "      <td>0.948113</td>\n",
              "      <td>00:30</td>\n",
              "    </tr>\n",
              "    <tr>\n",
              "      <td>4</td>\n",
              "      <td>0.187604</td>\n",
              "      <td>0.159831</td>\n",
              "      <td>0.938462</td>\n",
              "      <td>0.962264</td>\n",
              "      <td>0.962264</td>\n",
              "      <td>0.966981</td>\n",
              "      <td>00:29</td>\n",
              "    </tr>\n",
              "  </tbody>\n",
              "</table>"
            ],
            "text/plain": [
              "<IPython.core.display.HTML object>"
            ]
          },
          "metadata": {
            "tags": []
          }
        }
      ]
    },
    {
      "cell_type": "code",
      "metadata": {
        "id": "8VYCH1GtlPus",
        "colab_type": "code",
        "colab": {}
      },
      "source": [
        "learn.save('Corona_model_stage5')"
      ],
      "execution_count": 0,
      "outputs": []
    },
    {
      "cell_type": "markdown",
      "metadata": {
        "id": "aMA2CnQZyPuT",
        "colab_type": "text"
      },
      "source": [
        "# Results on Validation Set and Predictions on Test Set"
      ]
    },
    {
      "cell_type": "code",
      "metadata": {
        "id": "oWN8UExfQjeB",
        "colab_type": "code",
        "outputId": "9db80d2f-f754-4e92-9ae8-92633d1de58a",
        "colab": {
          "base_uri": "https://localhost:8080/",
          "height": 311
        }
      },
      "source": [
        "interp = ClassificationInterpretation.from_learner(learn)\n",
        "interp.plot_confusion_matrix()"
      ],
      "execution_count": 0,
      "outputs": [
        {
          "output_type": "display_data",
          "data": {
            "text/html": [
              ""
            ],
            "text/plain": [
              "<IPython.core.display.HTML object>"
            ]
          },
          "metadata": {
            "tags": []
          }
        },
        {
          "output_type": "display_data",
          "data": {
            "image/png": "[encoded data removed]",
            "text/plain": [
              "<Figure size 432x288 with 1 Axes>"
            ]
          },
          "metadata": {
            "tags": []
          }
        }
      ]
    },
    {
      "cell_type": "code",
      "metadata": {
        "id": "dNi_5tq3XRE1",
        "colab_type": "code",
        "colab": {}
      },
      "source": [
        "preds, _ = learn.get_preds(ds_type = DatasetType.Test, ordered=True)"
      ],
      "execution_count": 0,
      "outputs": []
    },
    {
      "cell_type": "code",
      "metadata": {
        "id": "w6y4X9lguOgE",
        "colab_type": "code",
        "colab": {}
      },
      "source": [
        "df_test"
      ],
      "execution_count": 0,
      "outputs": []
    },
    {
      "cell_type": "code",
      "metadata": {
        "id": "P2znTCilq29M",
        "colab_type": "code",
        "colab": {}
      },
      "source": [
        "#WARNING: PREDICTIONS ARE NOT SORTED AND DO NOT MATCH THEIR ACTUAL CORRESPONDING IMAGES\n",
        "'''\n",
        "model_classes = learn.data.classes\n",
        "preds = preds.tolist()\n",
        "confidences = [{c: p for c,p*100 in zip(model_classes, probs)} for probs in preds]\n",
        "final_df = pd.DataFrame({'ID_code': df_test['filename'], 'target': confidences})\n",
        "final_df.to_csv('NCOV_test_results.csv', header=True, index=False)\n",
        "'''\n",
        "\n"
      ],
      "execution_count": 0,
      "outputs": []
    },
    {
      "cell_type": "code",
      "metadata": {
        "id": "xKe9TohirATh",
        "colab_type": "code",
        "colab": {}
      },
      "source": [
        "#safer to use a dictionary data structure\n",
        "#save predictions on test set in csv\n",
        "images={filename:open_image('data/test/'+filename) for filename in test_files}\n",
        "results={filename:learn.predict(images[filename]) for filename in test_files}\n",
        "final_df=pd.DataFrame.from_dict(results,orient='index')\n",
        "final_df.to_csv('NCOV_test_results.csv', header=True)\n"
      ],
      "execution_count": 0,
      "outputs": []
    },
    {
      "cell_type": "code",
      "metadata": {
        "id": "GXxvwbZpMbFj",
        "colab_type": "code",
        "colab": {}
      },
      "source": [
        ""
      ],
      "execution_count": 0,
      "outputs": []
    }
  ]
}